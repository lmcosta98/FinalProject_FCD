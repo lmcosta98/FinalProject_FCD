{
 "cells": [
  {
   "cell_type": "code",
   "execution_count": 1,
   "metadata": {},
   "outputs": [],
   "source": [
    "import pandas as pd"
   ]
  },
  {
   "cell_type": "code",
   "execution_count": 6,
   "metadata": {},
   "outputs": [
    {
     "name": "stderr",
     "output_type": "stream",
     "text": [
      "/Users/luismiguel/opt/anaconda3/lib/python3.8/site-packages/IPython/core/interactiveshell.py:3444: DtypeWarning: Columns (0) have mixed types.Specify dtype option on import or set low_memory=False.\n",
      "  exec(code_obj, self.user_global_ns, self.user_ns)\n"
     ]
    }
   ],
   "source": [
    "data = pd.read_csv('data/anpc_final.csv')"
   ]
  },
  {
   "cell_type": "code",
   "execution_count": 10,
   "metadata": {},
   "outputs": [
    {
     "name": "stdout",
     "output_type": "stream",
     "text": [
      "<class 'pandas.core.frame.DataFrame'>\n",
      "RangeIndex: 573971 entries, 0 to 573970\n",
      "Data columns (total 15 columns):\n",
      " #   Column                                  Non-Null Count   Dtype  \n",
      "---  ------                                  --------------   -----  \n",
      " 0   Numero                                  573971 non-null  object \n",
      " 1   DataOcorrencia                          573966 non-null  object \n",
      " 2   DataFechoOperacional                    418785 non-null  object \n",
      " 3   Natureza                                573966 non-null  object \n",
      " 4   EstadoOcorrencia                        573966 non-null  object \n",
      " 5   Distrito                                573966 non-null  object \n",
      " 6   Concelho                                573966 non-null  object \n",
      " 7   Freguesia                               573964 non-null  object \n",
      " 8   Localidade                              573964 non-null  object \n",
      " 9   Latitude                                573962 non-null  object \n",
      " 10  Longitude                               573962 non-null  object \n",
      " 11  NumeroMeiosTerrestresEnvolvidos         573962 non-null  float64\n",
      " 12  NumeroOperacionaisTerrestresEnvolvidos  573962 non-null  float64\n",
      " 13  NumeroMeiosAereosEnvolvidos             573962 non-null  float64\n",
      " 14  NumeroOperacionaisAereosEnvolvidos      573962 non-null  float64\n",
      "dtypes: float64(4), object(11)\n",
      "memory usage: 65.7+ MB\n"
     ]
    }
   ],
   "source": [
    "data.info()"
   ]
  },
  {
   "cell_type": "code",
   "execution_count": null,
   "metadata": {},
   "outputs": [],
   "source": []
  }
 ],
 "metadata": {
  "interpreter": {
   "hash": "f77e6bc2d225f99816d788c5a4a60bbea5b0f9a625286da74699d4a3f8b02a8d"
  },
  "kernelspec": {
   "display_name": "Python 3.8.2 ('base')",
   "language": "python",
   "name": "python3"
  },
  "language_info": {
   "codemirror_mode": {
    "name": "ipython",
    "version": 3
   },
   "file_extension": ".py",
   "mimetype": "text/x-python",
   "name": "python",
   "nbconvert_exporter": "python",
   "pygments_lexer": "ipython3",
   "version": "3.8.2"
  },
  "orig_nbformat": 4
 },
 "nbformat": 4,
 "nbformat_minor": 2
}
